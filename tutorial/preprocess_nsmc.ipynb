{
  "nbformat": 4,
  "nbformat_minor": 0,
  "metadata": {
    "colab": {
      "name": "preprocess-nsmc.ipynb",
      "provenance": [],
      "collapsed_sections": []
    },
    "kernelspec": {
      "name": "python3",
      "display_name": "Python 3"
    },
    "accelerator": "GPU"
  },
  "cells": [
    {
      "cell_type": "markdown",
      "metadata": {
        "id": "pq4StkI_HpXa",
        "colab_type": "text"
      },
      "source": [
        "## Naver 영화리뷰 감정분석 데이터 전처리 \n",
        "\n",
        "Naver 영화리뷰 감정분석 데이터 전처리 과정 입니다.\n",
        "\n",
        "이 내용을 확인하기 전 아래 내용을 확인하시기 바랍니다.\n",
        "- [Sentencepiece를 활용해 Vocab 만들기](https://paul-hyun.github.io/vocab-with-sentencepiece/)\n",
        "\n",
        "[Colab](https://colab.research.google.com/)에서 실행 했습니다."
      ]
    },
    {
      "cell_type": "markdown",
      "metadata": {
        "id": "WQGy_iXGIAfi",
        "colab_type": "text"
      },
      "source": [
        "#### 0. Pip Install\n",
        "필요한 패키지를 pip를 이용해서 설치합니다."
      ]
    },
    {
      "cell_type": "code",
      "metadata": {
        "id": "QvCrh7LAHSMi",
        "colab_type": "code",
        "outputId": "2dac61b4-23e2-4107-d0de-65fee7da8e61",
        "colab": {
          "base_uri": "https://localhost:8080/",
          "height": 255
        }
      },
      "source": [
        "!pip install sentencepiece\n",
        "!pip install wget"
      ],
      "execution_count": 1,
      "outputs": [
        {
          "output_type": "stream",
          "text": [
            "Collecting sentencepiece\n",
            "\u001b[?25l  Downloading https://files.pythonhosted.org/packages/74/f4/2d5214cbf13d06e7cb2c20d84115ca25b53ea76fa1f0ade0e3c9749de214/sentencepiece-0.1.85-cp36-cp36m-manylinux1_x86_64.whl (1.0MB)\n",
            "\r\u001b[K     |▎                               | 10kB 22.2MB/s eta 0:00:01\r\u001b[K     |▋                               | 20kB 30.1MB/s eta 0:00:01\r\u001b[K     |█                               | 30kB 35.4MB/s eta 0:00:01\r\u001b[K     |█▎                              | 40kB 38.0MB/s eta 0:00:01\r\u001b[K     |█▋                              | 51kB 37.2MB/s eta 0:00:01\r\u001b[K     |██                              | 61kB 39.7MB/s eta 0:00:01\r\u001b[K     |██▏                             | 71kB 32.4MB/s eta 0:00:01\r\u001b[K     |██▌                             | 81kB 33.5MB/s eta 0:00:01\r\u001b[K     |██▉                             | 92kB 35.2MB/s eta 0:00:01\r\u001b[K     |███▏                            | 102kB 33.8MB/s eta 0:00:01\r\u001b[K     |███▌                            | 112kB 33.8MB/s eta 0:00:01\r\u001b[K     |███▉                            | 122kB 33.8MB/s eta 0:00:01\r\u001b[K     |████                            | 133kB 33.8MB/s eta 0:00:01\r\u001b[K     |████▍                           | 143kB 33.8MB/s eta 0:00:01\r\u001b[K     |████▊                           | 153kB 33.8MB/s eta 0:00:01\r\u001b[K     |█████                           | 163kB 33.8MB/s eta 0:00:01\r\u001b[K     |█████▍                          | 174kB 33.8MB/s eta 0:00:01\r\u001b[K     |█████▊                          | 184kB 33.8MB/s eta 0:00:01\r\u001b[K     |██████                          | 194kB 33.8MB/s eta 0:00:01\r\u001b[K     |██████▎                         | 204kB 33.8MB/s eta 0:00:01\r\u001b[K     |██████▋                         | 215kB 33.8MB/s eta 0:00:01\r\u001b[K     |███████                         | 225kB 33.8MB/s eta 0:00:01\r\u001b[K     |███████▎                        | 235kB 33.8MB/s eta 0:00:01\r\u001b[K     |███████▋                        | 245kB 33.8MB/s eta 0:00:01\r\u001b[K     |███████▉                        | 256kB 33.8MB/s eta 0:00:01\r\u001b[K     |████████▏                       | 266kB 33.8MB/s eta 0:00:01\r\u001b[K     |████████▌                       | 276kB 33.8MB/s eta 0:00:01\r\u001b[K     |████████▉                       | 286kB 33.8MB/s eta 0:00:01\r\u001b[K     |█████████▏                      | 296kB 33.8MB/s eta 0:00:01\r\u001b[K     |█████████▌                      | 307kB 33.8MB/s eta 0:00:01\r\u001b[K     |█████████▊                      | 317kB 33.8MB/s eta 0:00:01\r\u001b[K     |██████████                      | 327kB 33.8MB/s eta 0:00:01\r\u001b[K     |██████████▍                     | 337kB 33.8MB/s eta 0:00:01\r\u001b[K     |██████████▊                     | 348kB 33.8MB/s eta 0:00:01\r\u001b[K     |███████████                     | 358kB 33.8MB/s eta 0:00:01\r\u001b[K     |███████████▍                    | 368kB 33.8MB/s eta 0:00:01\r\u001b[K     |███████████▋                    | 378kB 33.8MB/s eta 0:00:01\r\u001b[K     |████████████                    | 389kB 33.8MB/s eta 0:00:01\r\u001b[K     |████████████▎                   | 399kB 33.8MB/s eta 0:00:01\r\u001b[K     |████████████▋                   | 409kB 33.8MB/s eta 0:00:01\r\u001b[K     |█████████████                   | 419kB 33.8MB/s eta 0:00:01\r\u001b[K     |█████████████▎                  | 430kB 33.8MB/s eta 0:00:01\r\u001b[K     |█████████████▌                  | 440kB 33.8MB/s eta 0:00:01\r\u001b[K     |█████████████▉                  | 450kB 33.8MB/s eta 0:00:01\r\u001b[K     |██████████████▏                 | 460kB 33.8MB/s eta 0:00:01\r\u001b[K     |██████████████▌                 | 471kB 33.8MB/s eta 0:00:01\r\u001b[K     |██████████████▉                 | 481kB 33.8MB/s eta 0:00:01\r\u001b[K     |███████████████▏                | 491kB 33.8MB/s eta 0:00:01\r\u001b[K     |███████████████▍                | 501kB 33.8MB/s eta 0:00:01\r\u001b[K     |███████████████▊                | 512kB 33.8MB/s eta 0:00:01\r\u001b[K     |████████████████                | 522kB 33.8MB/s eta 0:00:01\r\u001b[K     |████████████████▍               | 532kB 33.8MB/s eta 0:00:01\r\u001b[K     |████████████████▊               | 542kB 33.8MB/s eta 0:00:01\r\u001b[K     |█████████████████               | 552kB 33.8MB/s eta 0:00:01\r\u001b[K     |█████████████████▎              | 563kB 33.8MB/s eta 0:00:01\r\u001b[K     |█████████████████▋              | 573kB 33.8MB/s eta 0:00:01\r\u001b[K     |██████████████████              | 583kB 33.8MB/s eta 0:00:01\r\u001b[K     |██████████████████▎             | 593kB 33.8MB/s eta 0:00:01\r\u001b[K     |██████████████████▋             | 604kB 33.8MB/s eta 0:00:01\r\u001b[K     |███████████████████             | 614kB 33.8MB/s eta 0:00:01\r\u001b[K     |███████████████████▏            | 624kB 33.8MB/s eta 0:00:01\r\u001b[K     |███████████████████▌            | 634kB 33.8MB/s eta 0:00:01\r\u001b[K     |███████████████████▉            | 645kB 33.8MB/s eta 0:00:01\r\u001b[K     |████████████████████▏           | 655kB 33.8MB/s eta 0:00:01\r\u001b[K     |████████████████████▌           | 665kB 33.8MB/s eta 0:00:01\r\u001b[K     |████████████████████▉           | 675kB 33.8MB/s eta 0:00:01\r\u001b[K     |█████████████████████▏          | 686kB 33.8MB/s eta 0:00:01\r\u001b[K     |█████████████████████▍          | 696kB 33.8MB/s eta 0:00:01\r\u001b[K     |█████████████████████▊          | 706kB 33.8MB/s eta 0:00:01\r\u001b[K     |██████████████████████          | 716kB 33.8MB/s eta 0:00:01\r\u001b[K     |██████████████████████▍         | 727kB 33.8MB/s eta 0:00:01\r\u001b[K     |██████████████████████▊         | 737kB 33.8MB/s eta 0:00:01\r\u001b[K     |███████████████████████         | 747kB 33.8MB/s eta 0:00:01\r\u001b[K     |███████████████████████▎        | 757kB 33.8MB/s eta 0:00:01\r\u001b[K     |███████████████████████▋        | 768kB 33.8MB/s eta 0:00:01\r\u001b[K     |████████████████████████        | 778kB 33.8MB/s eta 0:00:01\r\u001b[K     |████████████████████████▎       | 788kB 33.8MB/s eta 0:00:01\r\u001b[K     |████████████████████████▋       | 798kB 33.8MB/s eta 0:00:01\r\u001b[K     |█████████████████████████       | 808kB 33.8MB/s eta 0:00:01\r\u001b[K     |█████████████████████████▏      | 819kB 33.8MB/s eta 0:00:01\r\u001b[K     |█████████████████████████▌      | 829kB 33.8MB/s eta 0:00:01\r\u001b[K     |█████████████████████████▉      | 839kB 33.8MB/s eta 0:00:01\r\u001b[K     |██████████████████████████▏     | 849kB 33.8MB/s eta 0:00:01\r\u001b[K     |██████████████████████████▌     | 860kB 33.8MB/s eta 0:00:01\r\u001b[K     |██████████████████████████▉     | 870kB 33.8MB/s eta 0:00:01\r\u001b[K     |███████████████████████████     | 880kB 33.8MB/s eta 0:00:01\r\u001b[K     |███████████████████████████▍    | 890kB 33.8MB/s eta 0:00:01\r\u001b[K     |███████████████████████████▊    | 901kB 33.8MB/s eta 0:00:01\r\u001b[K     |████████████████████████████    | 911kB 33.8MB/s eta 0:00:01\r\u001b[K     |████████████████████████████▍   | 921kB 33.8MB/s eta 0:00:01\r\u001b[K     |████████████████████████████▊   | 931kB 33.8MB/s eta 0:00:01\r\u001b[K     |█████████████████████████████   | 942kB 33.8MB/s eta 0:00:01\r\u001b[K     |█████████████████████████████▎  | 952kB 33.8MB/s eta 0:00:01\r\u001b[K     |█████████████████████████████▋  | 962kB 33.8MB/s eta 0:00:01\r\u001b[K     |██████████████████████████████  | 972kB 33.8MB/s eta 0:00:01\r\u001b[K     |██████████████████████████████▎ | 983kB 33.8MB/s eta 0:00:01\r\u001b[K     |██████████████████████████████▋ | 993kB 33.8MB/s eta 0:00:01\r\u001b[K     |██████████████████████████████▉ | 1.0MB 33.8MB/s eta 0:00:01\r\u001b[K     |███████████████████████████████▏| 1.0MB 33.8MB/s eta 0:00:01\r\u001b[K     |███████████████████████████████▌| 1.0MB 33.8MB/s eta 0:00:01\r\u001b[K     |███████████████████████████████▉| 1.0MB 33.8MB/s eta 0:00:01\r\u001b[K     |████████████████████████████████| 1.0MB 33.8MB/s \n",
            "\u001b[?25hInstalling collected packages: sentencepiece\n",
            "Successfully installed sentencepiece-0.1.85\n",
            "Collecting wget\n",
            "  Downloading https://files.pythonhosted.org/packages/47/6a/62e288da7bcda82b935ff0c6cfe542970f04e29c756b0e147251b2fb251f/wget-3.2.zip\n",
            "Building wheels for collected packages: wget\n",
            "  Building wheel for wget (setup.py) ... \u001b[?25l\u001b[?25hdone\n",
            "  Created wheel for wget: filename=wget-3.2-cp36-none-any.whl size=9681 sha256=87929ccf783702fd0ef26b8b70cd09def6d8d24d397c53e729bb2d0f16dd40a7\n",
            "  Stored in directory: /root/.cache/pip/wheels/40/15/30/7d8f7cea2902b4db79e3fea550d7d7b85ecb27ef992b618f3f\n",
            "Successfully built wget\n",
            "Installing collected packages: wget\n",
            "Successfully installed wget-3.2\n"
          ],
          "name": "stdout"
        }
      ]
    },
    {
      "cell_type": "markdown",
      "metadata": {
        "id": "JJEj4JnOIHdp",
        "colab_type": "text"
      },
      "source": [
        "#### 1. Google Drive Mount\n",
        "Colab에서는 컴퓨터에 자원에 접근이 불가능 하므로 Google Drive에 파일을 올려 놓은 후 Google Drive를 mount 에서 로컬 디스크처럼 사용 합니다.\n",
        "1. 아래 블럭을 실행하면 나타나는 링크를 클릭하세요.\n",
        "2. Google 계정을 선택 하시고 허용을 누르면 나타나는 코드를 복사하여 아래 박스에 입력한 후 Enter 키를 입력하면 됩니다."
      ]
    },
    {
      "cell_type": "code",
      "metadata": {
        "id": "uu_muOIjILVC",
        "colab_type": "code",
        "outputId": "07741e08-e2c9-4754-cece-783d638884cd",
        "colab": {
          "base_uri": "https://localhost:8080/",
          "height": 122
        }
      },
      "source": [
        "from google.colab import drive\n",
        "drive.mount('/content/drive')\n",
        "# data를 저장할 폴더 입니다. 환경에 맞게 수정 하세요.\n",
        "data_dir = \"/content/drive/My Drive/Data/transformer-evolution\""
      ],
      "execution_count": 2,
      "outputs": [
        {
          "output_type": "stream",
          "text": [
            "Go to this URL in a browser: https://accounts.google.com/o/oauth2/auth?client_id=947318989803-6bn6qk8qdgf4n4g3pfee6491hc0brc4i.apps.googleusercontent.com&redirect_uri=urn%3aietf%3awg%3aoauth%3a2.0%3aoob&response_type=code&scope=email%20https%3a%2f%2fwww.googleapis.com%2fauth%2fdocs.test%20https%3a%2f%2fwww.googleapis.com%2fauth%2fdrive%20https%3a%2f%2fwww.googleapis.com%2fauth%2fdrive.photos.readonly%20https%3a%2f%2fwww.googleapis.com%2fauth%2fpeopleapi.readonly\n",
            "\n",
            "Enter your authorization code:\n",
            "··········\n",
            "Mounted at /content/drive\n"
          ],
          "name": "stdout"
        }
      ]
    },
    {
      "cell_type": "markdown",
      "metadata": {
        "id": "9ATUwUJlIU86",
        "colab_type": "text"
      },
      "source": [
        "#### 2. Imports"
      ]
    },
    {
      "cell_type": "code",
      "metadata": {
        "id": "dquM-bfUIW-J",
        "colab_type": "code",
        "colab": {}
      },
      "source": [
        "import os\n",
        "import json\n",
        "import pandas as pd\n",
        "import sentencepiece as spm\n",
        "import wget"
      ],
      "execution_count": 0,
      "outputs": []
    },
    {
      "cell_type": "markdown",
      "metadata": {
        "id": "fj8iGv_HIbQp",
        "colab_type": "text"
      },
      "source": [
        "#### 3. 폴더의 목록을 확인\n",
        "Google Drive mount가 잘 되었는지 확인하기 위해 data_dir 목록을 확인 합니다."
      ]
    },
    {
      "cell_type": "code",
      "metadata": {
        "id": "8pjohaiGId95",
        "colab_type": "code",
        "outputId": "264a0b54-b775-4e11-97c0-54549c78b16e",
        "colab": {
          "base_uri": "https://localhost:8080/",
          "height": 68
        }
      },
      "source": [
        "for f in os.listdir(data_dir):\n",
        "  print(f)"
      ],
      "execution_count": 12,
      "outputs": [
        {
          "output_type": "stream",
          "text": [
            "kowiki.csv.gz\n",
            "kowiki.model\n",
            "kowiki.vocab\n"
          ],
          "name": "stdout"
        }
      ]
    },
    {
      "cell_type": "markdown",
      "metadata": {
        "id": "rOhCFxLPIdWx",
        "colab_type": "text"
      },
      "source": [
        "#### 4. Vocab 및 입력\n",
        "[Sentencepiece를 활용해 Vocab 만들기](https://paul-hyun.github.io/vocab-with-sentencepiece/)를 통해 만들어 놓은 vocab을 로딩 합니다.\n",
        "\n",
        "로딩된 vocab을 이용해 input을 만듭니다."
      ]
    },
    {
      "cell_type": "code",
      "metadata": {
        "id": "u69gqsv_IkrL",
        "colab_type": "code",
        "outputId": "b6012c54-9bc3-4ede-9c6f-6f06856d16db",
        "colab": {
          "base_uri": "https://localhost:8080/",
          "height": 34
        }
      },
      "source": [
        "# vocab loading\n",
        "vocab_file = f\"{data_dir}/kowiki.model\"\n",
        "vocab = spm.SentencePieceProcessor()\n",
        "vocab.load(vocab_file)"
      ],
      "execution_count": 13,
      "outputs": [
        {
          "output_type": "execute_result",
          "data": {
            "text/plain": [
              "True"
            ]
          },
          "metadata": {
            "tags": []
          },
          "execution_count": 13
        }
      ]
    },
    {
      "cell_type": "markdown",
      "metadata": {
        "id": "EDx-7ZE-0C64",
        "colab_type": "text"
      },
      "source": [
        "#### 5. 네이버 영화 분류 데이터 준비"
      ]
    },
    {
      "cell_type": "code",
      "metadata": {
        "id": "CpTuEhUU0AkK",
        "colab_type": "code",
        "outputId": "a9fb3d11-1c0f-4a3a-c1cc-eb0f9ff309c5",
        "colab": {
          "base_uri": "https://localhost:8080/",
          "height": 136
        }
      },
      "source": [
        "filename = wget.download(\"https://raw.githubusercontent.com/e9t/nsmc/master/ratings_train.txt\", f\"{data_dir}\")\n",
        "print(filename)\n",
        "filename = wget.download(\"https://raw.githubusercontent.com/e9t/nsmc/master/ratings_test.txt\", f\"{data_dir}\")\n",
        "print(filename)\n",
        "for f in os.listdir(data_dir):\n",
        "  print(f)"
      ],
      "execution_count": 14,
      "outputs": [
        {
          "output_type": "stream",
          "text": [
            "/content/drive/My Drive/Data/transformer-evolution/ratings_train.txt\n",
            "/content/drive/My Drive/Data/transformer-evolution/ratings_test.txt\n",
            "kowiki.csv.gz\n",
            "kowiki.model\n",
            "kowiki.vocab\n",
            "ratings_train.txt\n",
            "ratings_test.txt\n"
          ],
          "name": "stdout"
        }
      ]
    },
    {
      "cell_type": "code",
      "metadata": {
        "id": "Y0E77-Au0oZD",
        "colab_type": "code",
        "colab": {}
      },
      "source": [
        "\"\"\" train data 준비 \"\"\"\n",
        "def prepare_train(vocab, infile, outfile):\n",
        "    df = pd.read_csv(infile, sep=\"\\t\", engine=\"python\")\n",
        "    with open(outfile, \"w\") as f:\n",
        "        for index, row in df.iterrows():\n",
        "            document = row[\"document\"]\n",
        "            if type(document) != str:\n",
        "                continue\n",
        "            instance = { \"id\": row[\"id\"], \"doc\": vocab.encode_as_pieces(document), \"label\": row[\"label\"] }\n",
        "            f.write(json.dumps(instance))\n",
        "            f.write(\"\\n\")"
      ],
      "execution_count": 0,
      "outputs": []
    },
    {
      "cell_type": "code",
      "metadata": {
        "id": "8mvxbAW601Wf",
        "colab_type": "code",
        "outputId": "636ff445-c799-4730-a4ce-b9acd0ad7096",
        "colab": {
          "base_uri": "https://localhost:8080/",
          "height": 136
        }
      },
      "source": [
        "prepare_train(vocab, f\"{data_dir}/ratings_train.txt\", f\"{data_dir}/ratings_train.json\")\n",
        "prepare_train(vocab, f\"{data_dir}/ratings_test.txt\", f\"{data_dir}/ratings_test.json\")\n",
        "for f in os.listdir(data_dir):\n",
        "  print(f)"
      ],
      "execution_count": 16,
      "outputs": [
        {
          "output_type": "stream",
          "text": [
            "kowiki.csv.gz\n",
            "kowiki.model\n",
            "kowiki.vocab\n",
            "ratings_train.txt\n",
            "ratings_test.txt\n",
            "ratings_train.json\n",
            "ratings_test.json\n"
          ],
          "name": "stdout"
        }
      ]
    }
  ]
}