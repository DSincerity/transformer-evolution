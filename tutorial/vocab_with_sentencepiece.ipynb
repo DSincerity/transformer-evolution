{
  "nbformat": 4,
  "nbformat_minor": 0,
  "metadata": {
    "colab": {
      "name": "vocab-with-sentencepiece.ipynb",
      "provenance": [],
      "collapsed_sections": []
    },
    "kernelspec": {
      "name": "python3",
      "display_name": "Python 3"
    }
  },
  "cells": [
    {
      "cell_type": "markdown",
      "metadata": {
        "id": "WzZJ5r2ixm1J",
        "colab_type": "text"
      },
      "source": [
        "## Google Sentence Piece를 이용해서 Vocab 파일을 만드는 과정\n",
        "Google SentencePeice와 한국어 위키를 이용해서 Vocab을 만드는 과정에 대한 설명 입니다.\n",
        "\n",
        "[Colab](https://colab.research.google.com/)에서 실행 했습니다."
      ]
    },
    {
      "cell_type": "markdown",
      "metadata": {
        "id": "SHyl69IN0qqw",
        "colab_type": "text"
      },
      "source": [
        "#### 0. Pip Install\n",
        "필요한 패키지를 pip를 이용해서 설치합니다."
      ]
    },
    {
      "cell_type": "code",
      "metadata": {
        "id": "lJ4-SgC_0uNd",
        "colab_type": "code",
        "outputId": "92309520-2138-4a33-dc07-357fc923deba",
        "colab": {
          "base_uri": "https://localhost:8080/",
          "height": 102
        }
      },
      "source": [
        "!pip install sentencepiece"
      ],
      "execution_count": 0,
      "outputs": [
        {
          "output_type": "stream",
          "text": [
            "Collecting sentencepiece\n",
            "\u001b[?25l  Downloading https://files.pythonhosted.org/packages/14/3d/efb655a670b98f62ec32d66954e1109f403db4d937c50d779a75b9763a29/sentencepiece-0.1.83-cp36-cp36m-manylinux1_x86_64.whl (1.0MB)\n",
            "\u001b[K     |████████████████████████████████| 1.0MB 4.8MB/s \n",
            "\u001b[?25hInstalling collected packages: sentencepiece\n",
            "Successfully installed sentencepiece-0.1.83\n"
          ],
          "name": "stdout"
        }
      ]
    },
    {
      "cell_type": "markdown",
      "metadata": {
        "id": "Jc2ZP9a5xCf4",
        "colab_type": "text"
      },
      "source": [
        "#### 1. Google Drive Mount\n",
        "Colab에서는 컴퓨터에 자원에 접근이 불가능 하므로 Google Drive에 파일을 올려 놓은 후 Google Drive를 mount 에서 로컬 디스크처럼 사용 합니다.\n",
        "1. 아래 블럭을 실행하면 나타나는 링크를 클릭하세요.\n",
        "2. Google 계정을 선택 하시고 허용을 누르면 나타나는 코드를 복사하여 아래 박스에 입력한 후 Enter 키를 입력하면 됩니다."
      ]
    },
    {
      "cell_type": "code",
      "metadata": {
        "id": "gUe5mWs8w7rl",
        "colab_type": "code",
        "outputId": "d88d9326-8714-4e6b-ae45-4e303164f985",
        "colab": {
          "base_uri": "https://localhost:8080/",
          "height": 34
        }
      },
      "source": [
        "from google.colab import drive\n",
        "drive.mount('/content/drive')\n",
        "# data를 저장할 폴더 입니다. 환경에 맞게 수정 하세요.\n",
        "data_dir = \"/content/drive/My Drive/Data/transformer-evolution\""
      ],
      "execution_count": 0,
      "outputs": [
        {
          "output_type": "stream",
          "text": [
            "Drive already mounted at /content/drive; to attempt to forcibly remount, call drive.mount(\"/content/drive\", force_remount=True).\n"
          ],
          "name": "stdout"
        }
      ]
    },
    {
      "cell_type": "markdown",
      "metadata": {
        "id": "7H61xHhCyzdK",
        "colab_type": "text"
      },
      "source": [
        "#### 2. Imports\n"
      ]
    },
    {
      "cell_type": "code",
      "metadata": {
        "id": "EIX90f9oy45b",
        "colab_type": "code",
        "colab": {}
      },
      "source": [
        "import os\n",
        "import gzip\n",
        "import pandas as pd\n",
        "import sentencepiece as spm\n",
        "import shutil"
      ],
      "execution_count": 0,
      "outputs": []
    },
    {
      "cell_type": "markdown",
      "metadata": {
        "id": "yD8RxI2Hzjot",
        "colab_type": "text"
      },
      "source": [
        "#### 3. 폴더의 목록을 확인\n",
        "Google Drive mount가 잘 되었는지 확인하기 위해 data_dir 목록을 확인 합니다."
      ]
    },
    {
      "cell_type": "code",
      "metadata": {
        "id": "8kx9Fiqzyxpc",
        "colab_type": "code",
        "outputId": "7c19673e-425f-47ea-f31b-ccf385abc2b1",
        "colab": {
          "base_uri": "https://localhost:8080/",
          "height": 34
        }
      },
      "source": [
        "for f in os.listdir(data_dir):\n",
        "  print(f)"
      ],
      "execution_count": 0,
      "outputs": [
        {
          "output_type": "stream",
          "text": [
            "kowiki.csv.gz\n"
          ],
          "name": "stdout"
        }
      ]
    },
    {
      "cell_type": "markdown",
      "metadata": {
        "id": "BRpwnHUI1PQG",
        "colab_type": "text"
      },
      "source": [
        "#### 4. CSV 파일을 TEXT 형태로 변환\n",
        "Google SentencePiece에서 사용할 수 있도록 CSV를 TEXT형태로 변환 합니다."
      ]
    },
    {
      "cell_type": "code",
      "metadata": {
        "id": "HctSmjfU1fS2",
        "colab_type": "code",
        "colab": {}
      },
      "source": [
        "in_file = f\"{data_dir}/kowiki.csv.gz\"\n",
        "out_file = \"kowiki.txt\"\n",
        "SEPARATOR = u\"\\u241D\"\n",
        "\n",
        "df = pd.read_csv(in_file, sep=SEPARATOR, engine=\"python\", compression='gzip')\n",
        "with open(out_file, \"w\") as f:\n",
        "  for index, row in df.iterrows():\n",
        "    f.write(row[\"text\"]) # title 과 text를 중복 되므로 text만 저장 함\n",
        "    f.write(\"\\n\\n\\n\\n\") # 구분자"
      ],
      "execution_count": 0,
      "outputs": []
    },
    {
      "cell_type": "markdown",
      "metadata": {
        "id": "_VWlIEZL_9jh",
        "colab_type": "text"
      },
      "source": [
        "#### 5. Vocab 생성\n",
        "Google SentencePiece를 이용해서 vocab 만드는 방법 입니다. vocab을 만드는데 많은 시간이 소요 됩니다. 잠시 여유를 갖고 기다려 주세요."
      ]
    },
    {
      "cell_type": "code",
      "metadata": {
        "id": "Ago_Qw34APbA",
        "colab_type": "code",
        "outputId": "370c8318-affc-42f8-f710-dcc5b3713d2f",
        "colab": {
          "base_uri": "https://localhost:8080/",
          "height": 136
        }
      },
      "source": [
        "corpus = \"kowiki.txt\"\n",
        "prefix = \"kowiki\"\n",
        "vocab_size = 32000\n",
        "spm.SentencePieceTrainer.train(\n",
        "    f\"--input={corpus} --model_prefix={prefix} --vocab_size={vocab_size + 7}\" + \n",
        "    \" --model_type=bpe\" +\n",
        "    \" --max_sentence_length=999999\" + # 문장 최대 길이\n",
        "    \" --pad_id=0 --pad_piece=[PAD]\" + # pad (0)\n",
        "    \" --unk_id=1 --unk_piece=[UNK]\" + # unknown (1)\n",
        "    \" --bos_id=2 --bos_piece=[BOS]\" + # begin of sequence (2)\n",
        "    \" --eos_id=3 --eos_piece=[EOS]\" + # end of sequence (3)\n",
        "    \" --user_defined_symbols=[SEP],[CLS],[MASK]\") # 기타 추가 토큰\n",
        "\n",
        "for f in os.listdir(\".\"):\n",
        "  print(f)\n",
        "shutil.copy(\"kowiki.model\", f\"{data_dir}/kowiki.model\")\n",
        "shutil.copy(\"kowiki.vocab\", f\"{data_dir}/kowiki.vocab\")"
      ],
      "execution_count": 0,
      "outputs": [
        {
          "output_type": "stream",
          "text": [
            ".config\n",
            "kowiki.model\n",
            "drive\n",
            "kowiki.txt\n",
            "kowiki.vocab\n",
            "sample_data\n"
          ],
          "name": "stdout"
        },
        {
          "output_type": "execute_result",
          "data": {
            "text/plain": [
              "'/content/drive/My Drive/Data/transformer-evolution/kowiki.vocab'"
            ]
          },
          "metadata": {
            "tags": []
          },
          "execution_count": 43
        }
      ]
    },
    {
      "cell_type": "markdown",
      "metadata": {
        "id": "YEjtyIBRTHVo",
        "colab_type": "text"
      },
      "source": [
        "#### 6. Vocab 테스트\n",
        "생성된 vocab을 간단하게 테스트 해 봅니다."
      ]
    },
    {
      "cell_type": "code",
      "metadata": {
        "id": "qa7iTqO3MrKg",
        "colab_type": "code",
        "outputId": "e5b993e3-63a3-480d-89cf-9b60274c9853",
        "colab": {
          "base_uri": "https://localhost:8080/",
          "height": 221
        }
      },
      "source": [
        "vocab_file = f\"{data_dir}/kowiki.model\"\n",
        "vocab = spm.SentencePieceProcessor()\n",
        "vocab.load(vocab_file)\n",
        "\n",
        "lines = [\n",
        "  \"겨울이 되어서 날씨가 무척 추워요.\",\n",
        "  \"이번 성탄절은 화이트 크리스마스가 될까요?\",\n",
        "  \"겨울에 감기 조심하시고 행복한 연말 되세요.\"\n",
        "]\n",
        "for line in lines:\n",
        "  pieces = vocab.encode_as_pieces(line)\n",
        "  ids = vocab.encode_as_ids(line)\n",
        "  print(line)\n",
        "  print(pieces)\n",
        "  print(ids)\n",
        "  print()"
      ],
      "execution_count": 0,
      "outputs": [
        {
          "output_type": "stream",
          "text": [
            "겨울이 되어서 날씨가 무척 추워요.\n",
            "['▁겨울', '이', '▁되어서', '▁날', '씨가', '▁무척', '▁추', '워', '요', '.']\n",
            "[3091, 27588, 19397, 683, 5019, 14900, 206, 27958, 27760, 27590]\n",
            "\n",
            "이번 성탄절은 화이트 크리스마스가 될까요?\n",
            "['▁이번', '▁성', '탄', '절', '은', '▁화이트', '▁크리스', '마', '스가', '▁될', '까', '요', '?']\n",
            "[3224, 86, 27967, 27923, 27604, 6340, 1970, 27664, 780, 1450, 27794, 27760, 28245]\n",
            "\n",
            "겨울에 감기 조심하시고 행복한 연말 되세요.\n",
            "['▁겨울에', '▁감', '기', '▁조심', '하시', '고', '▁행복한', '▁연말', '▁되', '세요', '.']\n",
            "[18838, 212, 27605, 20179, 5871, 27600, 22057, 19628, 445, 16682, 27590]\n",
            "\n"
          ],
          "name": "stdout"
        }
      ]
    }
  ]
}